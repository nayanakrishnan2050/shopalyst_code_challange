{
  "nbformat": 4,
  "nbformat_minor": 0,
  "metadata": {
    "colab": {
      "provenance": [],
      "authorship_tag": "ABX9TyPvfK4XCD1280Btd+w00CZx",
      "include_colab_link": true
    },
    "kernelspec": {
      "name": "python3",
      "display_name": "Python 3"
    },
    "language_info": {
      "name": "python"
    }
  },
  "cells": [
    {
      "cell_type": "markdown",
      "metadata": {
        "id": "view-in-github",
        "colab_type": "text"
      },
      "source": [
        "<a href=\"https://colab.research.google.com/github/nayanakrishnan2050/shopalyst_code_challange/blob/main/shopalyst_e_commerce.ipynb\" target=\"_parent\"><img src=\"https://colab.research.google.com/assets/colab-badge.svg\" alt=\"Open In Colab\"/></a>"
      ]
    },
    {
      "cell_type": "code",
      "execution_count": null,
      "metadata": {
        "colab": {
          "base_uri": "https://localhost:8080/"
        },
        "id": "N4I39oChYOi_",
        "outputId": "1009e4bb-d135-4931-deb0-5a583997d8dd"
      },
      "outputs": [
        {
          "output_type": "stream",
          "name": "stdout",
          "text": [
            "{\n",
            "    \"amazon\": 11,\n",
            "    \"snapdeal\": 13,\n",
            "    \"nykaa\": 1\n",
            "}\n"
          ]
        }
      ],
      "source": [
        "import json\n",
        "\n",
        "def read_search_results(filename):\n",
        "    \"\"\"\n",
        "    Reads the search results from the given JSON file.\n",
        "    Returns a list of products from the 'productList' key.\n",
        "    \"\"\"\n",
        "    try:\n",
        "        with open(filename, 'r') as file:\n",
        "            data = json.load(file)\n",
        "\n",
        "            return data.get('productList', [])\n",
        "    except FileNotFoundError:\n",
        "        print(f\"File '{filename}' not found.\")\n",
        "        return []\n",
        "    except json.JSONDecodeError:\n",
        "        print(f\"Error decoding JSON from file '{filename}'.\")\n",
        "        return []\n",
        "\n",
        "def compute_product_counts(product_list):\n",
        "    \"\"\"\n",
        "    Computes the number of products on each e-commerce website.\n",
        "    \"\"\"\n",
        "    product_counts = {}\n",
        "    for product in product_list:\n",
        "        website = product.get('merchant')\n",
        "        if website:\n",
        "            product_counts[website] = product_counts.get(website, 0) + 1\n",
        "    return product_counts\n",
        "\n",
        "def main():\n",
        "    filename = '/content/search_result.json'\n",
        "    product_list = read_search_results(filename)\n",
        "    if not product_list:\n",
        "        return\n",
        "\n",
        "    product_counts = compute_product_counts(product_list)\n",
        "\n",
        "    # Print the output in the specified format\n",
        "    print(json.dumps(product_counts, indent=4))\n",
        "\n",
        "if __name__ == \"__main__\":\n",
        "    main()"
      ]
    }
  ]
}