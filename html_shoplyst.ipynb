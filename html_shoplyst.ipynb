{
  "nbformat": 4,
  "nbformat_minor": 0,
  "metadata": {
    "colab": {
      "provenance": [],
      "include_colab_link": true
    },
    "kernelspec": {
      "name": "python3",
      "display_name": "Python 3"
    },
    "language_info": {
      "name": "python"
    }
  },
  "cells": [
    {
      "cell_type": "markdown",
      "metadata": {
        "id": "view-in-github",
        "colab_type": "text"
      },
      "source": [
        "<a href=\"https://colab.research.google.com/github/nayanakrishnan2050/shopalyst_code_challange/blob/main/html_shoplyst.ipynb\" target=\"_parent\"><img src=\"https://colab.research.google.com/assets/colab-badge.svg\" alt=\"Open In Colab\"/></a>"
      ]
    },
    {
      "cell_type": "code",
      "execution_count": null,
      "metadata": {
        "colab": {
          "base_uri": "https://localhost:8080/"
        },
        "id": "gxGGrTkKnWMV",
        "outputId": "af6256fa-e9ca-4b86-e19c-53a74f37d442"
      },
      "outputs": [
        {
          "output_type": "stream",
          "name": "stdout",
          "text": [
            "True\n",
            "False\n"
          ]
        }
      ],
      "source": [
        "import re\n",
        "\n",
        "def validate_html(html: str) -> bool:\n",
        "    # Define regex patterns to match HTML tags\n",
        "    tag_pattern = re.compile(r'<(/?)(\\w+)[^>]*>')\n",
        "\n",
        "    # Initialize a stack to keep track of open tags\n",
        "    stack = []\n",
        "\n",
        "    # Find all tags in the html string\n",
        "    tags = tag_pattern.findall(html)\n",
        "\n",
        "    for closing_slash, tag_name in tags:\n",
        "        if closing_slash == '':\n",
        "            # It's an opening tag, push it onto the stack\n",
        "            stack.append(tag_name)\n",
        "        else:\n",
        "            # It's a closing tag, check if it matches the most recent open tag\n",
        "            if not stack or stack[-1] != tag_name:\n",
        "                return False\n",
        "            stack.pop()\n",
        "\n",
        "    # If stack is empty, all tags were properly matched and closed\n",
        "    return not stack\n",
        "\n",
        "# Test the function\n",
        "html_string = \"<html><head><title>Test</title></head><body><h1>Hello</h1></body></html>\"\n",
        "print(validate_html(html_string))  # Output: True\n",
        "\n",
        "html_string_invalid = \"<html><head><title>Test</head></title><body><h1>Hello</h1></body></html>\"\n",
        "print(validate_html(html_string_invalid))  # Output: False\n"
      ]
    }
  ]
}