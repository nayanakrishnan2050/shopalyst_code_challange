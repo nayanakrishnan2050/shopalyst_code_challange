{
  "nbformat": 4,
  "nbformat_minor": 0,
  "metadata": {
    "colab": {
      "provenance": [],
      "authorship_tag": "ABX9TyNFb3ybsZz5FE1SC5lmhTu3",
      "include_colab_link": true
    },
    "kernelspec": {
      "name": "python3",
      "display_name": "Python 3"
    },
    "language_info": {
      "name": "python"
    }
  },
  "cells": [
    {
      "cell_type": "markdown",
      "metadata": {
        "id": "view-in-github",
        "colab_type": "text"
      },
      "source": [
        "<a href=\"https://colab.research.google.com/github/nayanakrishnan2050/shopalyst_code_challange/blob/main/shoplyst_e_comerce_method_2.ipynb\" target=\"_parent\"><img src=\"https://colab.research.google.com/assets/colab-badge.svg\" alt=\"Open In Colab\"/></a>"
      ]
    },
    {
      "cell_type": "code",
      "execution_count": null,
      "metadata": {
        "id": "3rWjKuxV6Cuv"
      },
      "outputs": [],
      "source": [
        "import json\n",
        "\n",
        "# Load the JSON data from the file\n",
        "with open('/content/search_result.json', 'r') as file:\n",
        "    data = json.load(file)\n",
        "\n",
        "# Initialize a dictionary to store the counts\n",
        "merchant_counts = {}\n",
        "\n",
        "# Iterate through the products and count the number of products per merchant\n",
        "for product in data.get(\"productList\", []):\n",
        "    merchant = product.get(\"merchant\")\n",
        "    if merchant:\n",
        "        if merchant in merchant_counts:\n",
        "            merchant_counts[merchant] += 1\n",
        "        else:\n",
        "            merchant_counts[merchant] = 1\n",
        "\n",
        "# Print the result in the desired format\n",
        "print(json.dumps(merchant_counts, indent=4))\n"
      ]
    }
  ]
}